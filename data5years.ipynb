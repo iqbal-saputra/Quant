{
 "cells": [
  {
   "cell_type": "code",
   "execution_count": 1,
   "id": "94cfd3d1",
   "metadata": {},
   "outputs": [],
   "source": [
    "# 📦 Library Utama untuk Machine Learning & Deep Learning\n",
    "import numpy as np                      # Untuk manipulasi array\n",
    "import pandas as pd                    # Untuk manipulasi data tabular\n",
    "import math                            # Untuk operasi matematika dasar\n",
    "\n",
    "# 📊 Visualisasi\n",
    "import matplotlib.pyplot as plt        # Untuk membuat grafik\n",
    "import seaborn as sns # PASTIKAN INI ADA DI BAGIAN LIBRARIES Paling Atas Notebookmu!\n",
    "import pandas as pd # Tambahkan jika belum terdefinisi di cell ini\n",
    "\n",
    "# 🧠 TensorFlow & Keras\n",
    "import tensorflow as tf                # Framework deep learning utama\n",
    "from tensorflow.keras import backend as K  # Untuk operasi backend custom\n",
    "from keras.models import Sequential    # Untuk membuat model sekuensial\n",
    "from keras.layers import LSTM, Dense, Dropout, Activation\n",
    "from keras.layers import Conv1D, MaxPooling1D  # (opsional) untuk model hybrid CNN-LSTM\n",
    "from keras.metrics import RootMeanSquaredError as rmse\n",
    "from keras.callbacks import EarlyStopping, ModelCheckpoint\n",
    "from keras.utils.vis_utils import plot_model  # Untuk visualisasi arsitektur model\n",
    "from keras import optimizers                # Untuk kustomisasi optimizer\n",
    "\n",
    "# 📁 Data Collection dari MetaTrader 5\n",
    "import MetaTrader5 as mt5              # Untuk mengakses data harga dari MT5\n",
    "\n",
    "# 📅 Tanggal dan Waktu\n",
    "from datetime import datetime, timedelta  # Untuk range tanggal\n",
    "import time                               # Untuk tracking durasi training\n",
    "\n",
    "# ⚙️ Utility\n",
    "from sklearn.model_selection import train_test_split  # Untuk membagi data train/test\n",
    "from sklearn.preprocessing import MinMaxScaler        # Untuk normalisasi data\n",
    "import tf2onnx                                        # Untuk konversi model ke format ONNX\n",
    "from sys import argv                                  # Untuk akses argument command line (opsional)\n",
    "import gc                                             # Untuk garbage collection (mengurangi memory leak)\n",
    "\n",
    "# 🔧 Pengaturan Awal\n",
    "# import warnings\n",
    "# warnings.filterwarnings('ignore')"
   ]
  },
  {
   "cell_type": "code",
   "execution_count": 2,
   "id": "ec896253",
   "metadata": {},
   "outputs": [
    {
     "name": "stdout",
     "output_type": "stream",
     "text": [
      "TerminalInfo(community_account=False, community_connection=False, connected=True, dlls_allowed=True, trade_allowed=True, tradeapi_disabled=False, email_enabled=False, ftp_enabled=False, notifications_enabled=False, mqid=True, build=4885, maxbars=100000, codepage=0, ping_last=16468, community_balance=0.0, retransmission=0.21606440495139373, company='MetaQuotes Ltd.', name='MetaTrader 5', language='English', path='C:\\\\Program Files\\\\MetaTrader 5', data_path='C:\\\\Users\\\\miqba\\\\AppData\\\\Roaming\\\\MetaQuotes\\\\Terminal\\\\D0E8209F77C8CF37AD8BF550E51FF075', commondata_path='C:\\\\Users\\\\miqba\\\\AppData\\\\Roaming\\\\MetaQuotes\\\\Terminal\\\\Common')\n"
     ]
    }
   ],
   "source": [
    "# Menginisialisasi koneksi ke MetaTrader5\n",
    "if not mt5.initialize():\n",
    "    print(\"initialize() failed, error code =\",mt5.last_error())\n",
    "    quit()\n",
    "    \n",
    "# Show terminal info\n",
    "terminal_info=mt5.terminal_info()\n",
    "print(terminal_info)\n"
   ]
  },
  {
   "cell_type": "code",
   "execution_count": 6,
   "id": "e1c132bb",
   "metadata": {},
   "outputs": [
    {
     "name": "stdout",
     "output_type": "stream",
     "text": [
      "data start date = 2023-01-01 00:00:00\n",
      "data end date = 2025-06-02 20:42:22.865920\n"
     ]
    }
   ],
   "source": [
    "# Define start and end dates for data collection\n",
    "end_date = datetime.now()\n",
    "# start_date = end_date - timedelta(days=180)\n",
    "start_date = datetime(2023, 1, 1) # Mulai dari 1 Januari 2020\n",
    "\n",
    "# Cek apakah tanggal mulai lebih awal dari tanggal akhir\n",
    "print(\"data start date =\",start_date)\n",
    "print(\"data end date =\",end_date)"
   ]
  },
  {
   "cell_type": "code",
   "execution_count": 7,
   "id": "d30a5b42",
   "metadata": {},
   "outputs": [],
   "source": [
    "# Ambil data harga XAUUSD (Timeframe H1) dari MT5\n",
    "xauusd_rates = mt5.copy_rates_range(\"XAUUSD\", mt5.TIMEFRAME_M15, start_date, end_date)"
   ]
  },
  {
   "cell_type": "code",
   "execution_count": 8,
   "id": "36490689",
   "metadata": {},
   "outputs": [
    {
     "name": "stdout",
     "output_type": "stream",
     "text": [
      "\n",
      "DataFrame Head:\n",
      "                 time     open     high      low    close  tick_volume  \\\n",
      "0 2023-01-02 22:00:00  1827.53  1830.07  1825.97  1826.11          285   \n",
      "1 2023-01-02 22:15:00  1826.10  1829.08  1823.52  1827.92          594   \n",
      "2 2023-01-02 22:30:00  1827.93  1828.36  1826.91  1827.95          624   \n",
      "3 2023-01-02 22:45:00  1827.80  1829.44  1827.73  1829.44          603   \n",
      "4 2023-01-02 23:00:00  1829.44  1832.05  1828.83  1831.60          899   \n",
      "\n",
      "   spread  real_volume  \n",
      "0    1190            0  \n",
      "1     140            0  \n",
      "2     140            0  \n",
      "3     100            0  \n",
      "4     120            0  \n",
      "\n",
      "DataFrame Tail:\n",
      "                     time      open      high       low     close  \\\n",
      "57705 2025-06-02 12:30:00  3360.939  3363.611  3360.295  3361.767   \n",
      "57706 2025-06-02 12:45:00  3361.800  3362.194  3354.727  3355.489   \n",
      "57707 2025-06-02 13:00:00  3355.533  3357.697  3352.740  3356.418   \n",
      "57708 2025-06-02 13:15:00  3356.460  3357.783  3351.955  3355.774   \n",
      "57709 2025-06-02 13:30:00  3355.820  3364.900  3350.343  3364.824   \n",
      "\n",
      "       tick_volume  spread  real_volume  \n",
      "57705         3158     112            0  \n",
      "57706         3409     111            0  \n",
      "57707         3740     112            0  \n",
      "57708         3375     111            0  \n",
      "57709         5224     111            0  \n",
      "\n",
      "DataFrame Shape: (57710, 8)\n"
     ]
    }
   ],
   "source": [
    "\n",
    "\n",
    "# Bikin DataFrame dari data yang diambil\n",
    "df = pd.DataFrame(xauusd_rates)\n",
    "df['time'] = pd.to_datetime(df['time'], unit='s') # Ubah timestamp ke datetime\n",
    "# df.set_index('time', inplace=True)\n",
    "\n",
    "# Cek beberapa baris awal dan akhir DataFrame\n",
    "print(\"\\nDataFrame Head:\")\n",
    "print(df.head())\n",
    "print(\"\\nDataFrame Tail:\")\n",
    "print(df.tail())\n",
    "print(f\"\\nDataFrame Shape: {df.shape}\") # Liat berapa banyak data (rows, columns)"
   ]
  },
  {
   "cell_type": "code",
   "execution_count": 9,
   "id": "b171aabc",
   "metadata": {},
   "outputs": [],
   "source": [
    "# Simpan data ke CSV\n",
    "df.to_csv(\"XAUUSD_M15_DATA.csv\", index=False)  "
   ]
  }
 ],
 "metadata": {
  "kernelspec": {
   "display_name": "quant",
   "language": "python",
   "name": "python3"
  },
  "language_info": {
   "codemirror_mode": {
    "name": "ipython",
    "version": 3
   },
   "file_extension": ".py",
   "mimetype": "text/x-python",
   "name": "python",
   "nbconvert_exporter": "python",
   "pygments_lexer": "ipython3",
   "version": "3.9.16"
  }
 },
 "nbformat": 4,
 "nbformat_minor": 5
}
